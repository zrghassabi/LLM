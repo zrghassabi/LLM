{
  "cells": [
    {
      "cell_type": "markdown",
      "metadata": {
        "id": "view-in-github",
        "colab_type": "text"
      },
      "source": [
        "<a href=\"https://colab.research.google.com/github/zrghassabi/LLM/blob/main/Chapter5_Demo_Chatbot_Flask_App_with_Sentiment_Summarization_QA%5B1%5D.ipynb\" target=\"_parent\"><img src=\"https://colab.research.google.com/assets/colab-badge.svg\" alt=\"Open In Colab\"/></a>"
      ]
    },
    {
      "cell_type": "markdown",
      "id": "6e1d19af",
      "metadata": {
        "id": "6e1d19af"
      },
      "source": [
        "\n",
        "# Chatbot with Sentiment Analysis, Summarization, and Q&A Using Flask\n",
        "\n",
        "This notebook sets up a Flask application for a chatbot that integrates three different models: sentiment analysis, summarization, and question answering. It also includes a fallback decoder-only model. The chatbot works as follows:\n",
        "- When asked a question, it uses the Q&A model.\n",
        "- On every message, it checks the sentiment using the sentiment analysis model and adjusts the prompt to the decoder model accordingly.\n",
        "- When asked to summarize something, it uses the summarization model.\n",
        "- All messages are saved so the decoder model has more context.\n",
        "- There are endpoints for resetting the conversation and greeting the user.\n"
      ]
    },
    {
      "cell_type": "code",
      "source": [
        "!pip install transformers flask requests tensorflow"
      ],
      "metadata": {
        "id": "G26UMMw5ERMO"
      },
      "id": "G26UMMw5ERMO",
      "execution_count": null,
      "outputs": []
    },
    {
      "cell_type": "markdown",
      "id": "35dcc193",
      "metadata": {
        "id": "35dcc193"
      },
      "source": [
        "\n",
        "### Flask App Initialization\n",
        "\n",
        "We initialize the Flask application and set up global variables to store conversation history and conversation summaries.\n"
      ]
    },
    {
      "cell_type": "markdown",
      "id": "ed335c60",
      "metadata": {
        "id": "ed335c60"
      },
      "source": [
        "\n",
        "### Helper Functions\n",
        "\n",
        "We define helper functions to:\n",
        "- Summarize the conversation.\n",
        "- Summarize a given text.\n",
        "- Answer questions.\n",
        "- Generate responses using the decoder model.\n",
        "- Analyze sentiment.\n"
      ]
    },
    {
      "cell_type": "markdown",
      "metadata": {
        "id": "470b5e31"
      },
      "source": [
        "\n",
        "### Endpoints\n",
        "\n",
        "We define three endpoints:\n",
        "- `/reset`: Resets the conversation history after summarizing it.\n",
        "- `/greet`: Provides a greeting message.\n",
        "- `/chat`: Processes user messages, checks sentiment, and uses the appropriate model to generate responses.\n"
      ],
      "id": "470b5e31"
    },
    {
      "cell_type": "code",
      "execution_count": null,
      "metadata": {
        "id": "045e533c"
      },
      "outputs": [],
      "source": [],
      "id": "045e533c"
    },
    {
      "cell_type": "code",
      "execution_count": null,
      "id": "8bfdb777",
      "metadata": {
        "id": "8bfdb777"
      },
      "outputs": [],
      "source": [
        "%%writefile chatbot.py\n",
        "\n",
        "# Step 1: Load the necessary libraries and models\n",
        "import tensorflow as tf\n",
        "from transformers import TFAutoModelForSequenceClassification, AutoTokenizer, pipeline, TFAutoModelForSeq2SeqLM\n",
        "from flask import Flask, request, jsonify\n",
        "import json\n",
        "\n",
        "# Load Sentiment Analysis Model\n",
        "sentiment_model = TFAutoModelForSequenceClassification.from_pretrained(\"distilbert/distilbert-base-uncased-finetuned-sst-2-english\")\n",
        "sentiment_tokenizer = AutoTokenizer.from_pretrained(\"distilbert/distilbert-base-uncased-finetuned-sst-2-english\")\n",
        "\n",
        "# Load Summarization Model\n",
        "summarization_model = TFAutoModelForSeq2SeqLM.from_pretrained(\"google/flan-t5-large\")\n",
        "summarization_tokenizer = AutoTokenizer.from_pretrained(\"google/flan-t5-large\")\n",
        "\n",
        "# Load Question Answering Model\n",
        "qa_model = TFAutoModelForSeq2SeqLM.from_pretrained(\"google/flan-t5-large\")\n",
        "qa_tokenizer = AutoTokenizer.from_pretrained(\"google/flan-t5-large\")\n",
        "\n",
        "# Load Generic Decoder-Only Model\n",
        "pipe = pipeline(\"text-generation\", model=\"gpt2-large\")\n",
        "\n",
        "\n",
        "# Initialize Flask App\n",
        "app = Flask(__name__)\n",
        "conversation_history = []\n",
        "conversation_summaries = []\n",
        "\n",
        "\n",
        "def summarize_conversation(conversation):\n",
        "    conversation_text = \" \".join(conversation)\n",
        "    inputs = summarization_tokenizer(f'Summarize: {conversation_text}', return_tensors=\"tf\", max_length=512, truncation=True, padding=True)\n",
        "    summary_ids = summarization_model.generate(inputs['input_ids'], max_length=500, num_beams=4, early_stopping=True)\n",
        "    summary = summarization_tokenizer.decode(summary_ids[0], skip_special_tokens=True)\n",
        "    return summary\n",
        "\n",
        "def summarize_text(text):\n",
        "    inputs = summarization_tokenizer(f'Summarize: {text}', return_tensors=\"tf\", max_length=512, truncation=True, padding=True)\n",
        "    summary_ids = summarization_model.generate(inputs['input_ids'], max_length=150, num_beams=4, early_stopping=True)\n",
        "    summary = summarization_tokenizer.decode(summary_ids[0], skip_special_tokens=True)\n",
        "    return summary\n",
        "\n",
        "def answer_question(question):\n",
        "    inputs = qa_tokenizer(f'question: {question} answer: ', return_tensors=\"tf\")\n",
        "    answer_ids = qa_model.generate(inputs['input_ids'])\n",
        "    answer = qa_tokenizer.decode(answer_ids[0], skip_special_tokens=True)\n",
        "    return answer\n",
        "\n",
        "def generate_response(message):\n",
        "    # context = \" \".join(conversation_history)\n",
        "    sentiment = analyze_sentiment(message)\n",
        "    if sentiment == \"negative\":\n",
        "        prompt = f\"The user is angry. Their message: {message}\"\n",
        "    else:\n",
        "        prompt = message\n",
        "    response = pipe(prompt)[0]['generated_text']\n",
        "    return response\n",
        "\n",
        "def analyze_sentiment(text):\n",
        "    inputs = sentiment_tokenizer(text, return_tensors=\"tf\", truncation=True)\n",
        "    outputs = sentiment_model(inputs)\n",
        "    sentiment_score = tf.nn.softmax(outputs.logits, axis=-1).numpy()\n",
        "    sentiment = \"positive\" if sentiment_score[0][1] > 0.5 else \"negative\"\n",
        "    return sentiment\n",
        "\n",
        "\n",
        "@app.route('/reset', methods=['POST'])\n",
        "def reset_conversation():\n",
        "    global conversation_history\n",
        "    global conversation_summaries\n",
        "    summary = summarize_conversation(conversation_history)\n",
        "    conversation_summaries.append(summary)\n",
        "    conversation_history = []\n",
        "    return jsonify({\"message\": \"Conversation has been reset.\", \"summary\": summary})\n",
        "\n",
        "@app.route('/greet', methods=['GET'])\n",
        "def greet_user():\n",
        "    return jsonify({\"message\": \"Hello! How can I assist you today?\"})\n",
        "\n",
        "@app.route('/chat', methods=['POST'])\n",
        "def chat():\n",
        "    global conversation_history\n",
        "    user_message = request.json.get('message')\n",
        "    conversation_history.append(f'User: {user_message}')\n",
        "\n",
        "    # Determine the task based on the message\n",
        "    if \"summarize\" in user_message.lower():\n",
        "        print(\"summarize\")\n",
        "        response = summarize_text(user_message)\n",
        "    elif \"?\" in user_message:\n",
        "        print(\"question\")\n",
        "        response = answer_question(user_message)\n",
        "    else:\n",
        "        print(\"default\")\n",
        "        response = generate_response(user_message)\n",
        "\n",
        "    sentiment = analyze_sentiment(user_message)\n",
        "    conversation_history.append(f'Agent: {response}')\n",
        "\n",
        "    return jsonify({\"response\": response})\n",
        "\n",
        "\n",
        "if __name__ == '__main__':\n",
        "    app.run(host='0.0.0.0', port=5000)"
      ]
    },
    {
      "cell_type": "markdown",
      "id": "79ee3a2f",
      "metadata": {
        "id": "79ee3a2f"
      },
      "source": [
        "\n",
        "### Running the Flask App\n",
        "\n",
        "Finally, we run the Flask app.\n"
      ]
    },
    {
      "cell_type": "code",
      "execution_count": null,
      "id": "61394903",
      "metadata": {
        "id": "61394903"
      },
      "outputs": [],
      "source": [
        "!nohup python chatbot.py &\n"
      ]
    },
    {
      "cell_type": "code",
      "source": [
        "!sudo lsof -i -P -n | grep LISTEN"
      ],
      "metadata": {
        "id": "21g-0GKgBkte"
      },
      "id": "21g-0GKgBkte",
      "execution_count": null,
      "outputs": []
    },
    {
      "cell_type": "code",
      "source": [
        "from requests import post, get\n",
        "from socket import gethostname, gethostbyname\n",
        "ip = gethostbyname(gethostname()) # 172.28.0.12\n",
        "response = get(f\"http://{ip}:5000/greet\").json()\n",
        "response"
      ],
      "metadata": {
        "id": "XfDWiwqjBmNc"
      },
      "id": "XfDWiwqjBmNc",
      "execution_count": null,
      "outputs": []
    },
    {
      "cell_type": "code",
      "source": [
        "response = post(f\"http://{ip}:5000/chat\", json= {'message': 'What is the capital of France?'}).json()\n",
        "response"
      ],
      "metadata": {
        "id": "oNmnlywoCL10"
      },
      "id": "oNmnlywoCL10",
      "execution_count": null,
      "outputs": []
    },
    {
      "cell_type": "code",
      "source": [
        "response = post(f\"http://{ip}:5000/chat\", json= {'message': 'summarize this text \\n The Bastille was a fortress in Paris, known as the Bastille Saint-Antoine. It played an important role in the internal conflicts of France and for most of its history was used as a state prison by the kings of France. It was stormed by a crowd on 14 July 1789, in the French Revolution, becoming an important symbol for the French Republican movement. It was later demolished and replaced by the Place de la Bastille.'}).json()\n",
        "response"
      ],
      "metadata": {
        "id": "YHEW6YI9CXfA"
      },
      "id": "YHEW6YI9CXfA",
      "execution_count": null,
      "outputs": []
    },
    {
      "cell_type": "code",
      "source": [
        "response = post(f\"http://{ip}:5000/chat\", json= {'message': 'I want to build an app'}).json()\n",
        "response"
      ],
      "metadata": {
        "id": "Hxg04BWeL_N7"
      },
      "id": "Hxg04BWeL_N7",
      "execution_count": null,
      "outputs": []
    },
    {
      "cell_type": "code",
      "source": [
        "response = post(f\"http://{ip}:5000/reset\").json()\n",
        "response"
      ],
      "metadata": {
        "id": "MFBklxkgDj0e"
      },
      "id": "MFBklxkgDj0e",
      "execution_count": null,
      "outputs": []
    }
  ],
  "metadata": {
    "colab": {
      "provenance": [],
      "machine_shape": "hm",
      "gpuType": "A100",
      "include_colab_link": true
    },
    "language_info": {
      "name": "python"
    },
    "accelerator": "GPU",
    "kernelspec": {
      "name": "python3",
      "display_name": "Python 3"
    }
  },
  "nbformat": 4,
  "nbformat_minor": 5
}